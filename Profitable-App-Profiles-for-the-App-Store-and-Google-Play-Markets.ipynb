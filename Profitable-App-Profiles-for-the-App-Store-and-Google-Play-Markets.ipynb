{
 "cells": [
  {
   "cell_type": "markdown",
   "metadata": {},
   "source": [
    "# <center> Profitable App Profile for the Apple Store and Google Play Markets </center>\n",
    "\n",
    "<center> by: Chlaudiah Julinar Soplero Lelywiary </center>"
   ]
  },
  {
   "cell_type": "markdown",
   "metadata": {},
   "source": [
    "This project is to find the characteristics of mobile appplication that are prefreable in Apple Store and Google Play Store. As a data analyst who work in company that builds Android and iOS mobile apps, the job is to help the developers team to make a decision based on data-driven approach for decided what kind of apps that they should build. "
   ]
  },
  {
   "cell_type": "markdown",
   "metadata": {},
   "source": [
    "The company only build apps that are free to download and install and main source of revenue consites of in-app adds. This means our revenue for any given app is mostly influenced by the number of users who use our app. Our goal for this project is to analyze data to help our developers understand what kind of apps are likely to attract more users."
   ]
  },
  {
   "cell_type": "markdown",
   "metadata": {},
   "source": [
    "## Opening and Exploring the Data"
   ]
  },
  {
   "cell_type": "markdown",
   "metadata": {},
   "source": [
    "As of September 2018, there were approximately 2 million iOS apps available on the App Store and 2.1 million Android apps on Google Play (source from: [Statista](https://www.statista.com/statistics/276623/number-of-apps-available-in-leading-app-stores/))"
   ]
  },
  {
   "cell_type": "markdown",
   "metadata": {},
   "source": [
    "Collectiong data over 4 million apps requires a significant amount of time and money, so try to analyze a sample of the data instead. To avoid spending resources on collectiong new data ourselves try to see any relevant existing data without cost. There are two datasets below seem suitable for the goals:\n",
    "\n",
    "* [Google Apps Store Datasets](https://www.kaggle.com/lava18/google-play-store-apps/home) containing data about approximately **10.000** Android apps from Google Play that collected in August 2018.\n",
    "* [Apple iOS Apps Store Datasets](https://www.kaggle.com/ramamet4/app-store-apple-data-set-10k-apps/home) containing data about approximately **7.000** iOS apps from the App Store that collected in July 2017.\n",
    "\n",
    "Lets start by opening two data sets and then continue with exploring the data."
   ]
  },
  {
   "cell_type": "code",
   "execution_count": 1,
   "metadata": {},
   "outputs": [],
   "source": [
    "## OPEN TWO DATA SETS#\n",
    "\n",
    "from csv import reader\n",
    "\n",
    "#------- Google App Store Data sets------#\n",
    "open_android = open('googleplaystore.csv',encoding='utf-8')\n",
    "android_file = reader(open_android)\n",
    "android_lists = list(android_file)\n",
    "android_header = android_lists[0]\n",
    "android_data = android_lists[1:]\n",
    "\n",
    "#------- Apple iOS App Store Data sets------#\n",
    "open_ios = open('AppleStore.csv',encoding='utf-8')\n",
    "ios_file = reader(open_ios)\n",
    "ios_lists = list(ios_file)\n",
    "ios_header = ios_lists[0]\n",
    "ios_data = ios_lists[1:]"
   ]
  },
  {
   "cell_type": "code",
   "execution_count": 2,
   "metadata": {},
   "outputs": [],
   "source": [
    "# EXPLORE TWO DATA SETS #\n",
    "def explore_data(lists, header=False):\n",
    "    for row in lists[:3]:\n",
    "        print(row,'\\n')\n",
    "        \n",
    "    if header:\n",
    "        print('Number of rows: ',len(lists))\n",
    "        print('Number of columns: ',len(lists[0]))"
   ]
  },
  {
   "cell_type": "code",
   "execution_count": 3,
   "metadata": {},
   "outputs": [
    {
     "name": "stdout",
     "output_type": "stream",
     "text": [
      "Android Data Explore: \n",
      "['App', 'Category', 'Rating', 'Reviews', 'Size', 'Installs', 'Type', 'Price', 'Content Rating', 'Genres', 'Last Updated', 'Current Ver', 'Android Ver'] \n",
      "\n",
      "['Photo Editor & Candy Camera & Grid & ScrapBook', 'ART_AND_DESIGN', '4.1', '159', '19M', '10,000+', 'Free', '0', 'Everyone', 'Art & Design', 'January 7, 2018', '1.0.0', '4.0.3 and up'] \n",
      "\n",
      "['Coloring book moana', 'ART_AND_DESIGN', '3.9', '967', '14M', '500,000+', 'Free', '0', 'Everyone', 'Art & Design;Pretend Play', 'January 15, 2018', '2.0.0', '4.0.3 and up'] \n",
      "\n",
      "Number of rows:  10842\n",
      "Number of columns:  13\n"
     ]
    }
   ],
   "source": [
    "print('Android Data Explore: ')\n",
    "android_explore = explore_data(android_lists, header=True)"
   ]
  },
  {
   "cell_type": "markdown",
   "metadata": {},
   "source": [
    "As we can see from the result, for Android Dataset has **13 feature** and **10841 data**. The features that might be useful for our goals are:\n",
    "\n",
    "| <center> Column Name </center> | <center> Description </center>                                |\n",
    "| ----------- | ------------------------------------------- |\n",
    "| App         | Application Name                            |\n",
    "| Category    | Category the app belongs to                 |\n",
    "| Rating      | Overall user rating of the app              |\n",
    "| Reviews     | Number of user reviews                      |\n",
    "| Installs    | Number of user download or install the app  |\n",
    "| Type        | a paid app or free app                      |\n",
    "| Genres      | Apart from the main category                |\n",
    "| Price       | Price of the app                            |"
   ]
  },
  {
   "cell_type": "code",
   "execution_count": 4,
   "metadata": {},
   "outputs": [
    {
     "name": "stdout",
     "output_type": "stream",
     "text": [
      "iOS Data Explore: \n",
      "['id', 'track_name', 'size_bytes', 'currency', 'price', 'rating_count_tot', 'rating_count_ver', 'user_rating', 'user_rating_ver', 'ver', 'cont_rating', 'prime_genre', 'sup_devices.num', 'ipadSc_urls.num', 'lang.num', 'vpp_lic'] \n",
      "\n",
      "['284882215', 'Facebook', '389879808', 'USD', '0.0', '2974676', '212', '3.5', '3.5', '95.0', '4+', 'Social Networking', '37', '1', '29', '1'] \n",
      "\n",
      "['389801252', 'Instagram', '113954816', 'USD', '0.0', '2161558', '1289', '4.5', '4.0', '10.23', '12+', 'Photo & Video', '37', '0', '29', '1'] \n",
      "\n",
      "Number of rows:  7198\n",
      "Number of columns:  16\n"
     ]
    }
   ],
   "source": [
    "print('iOS Data Explore: ')\n",
    "ios_explore = explore_data(ios_lists,True)"
   ]
  },
  {
   "cell_type": "markdown",
   "metadata": {},
   "source": [
    "For iOS data sets has **16 features** and **7197 data**. The features that might be useful are:\n",
    "\n",
    "| Column Name       |  Description                             |\n",
    "| -----------       | -----------------------------------------|\n",
    "| id                | Application ID                           |\n",
    "| track_name        | Application Name                         |\n",
    "| price             | price amount                             |\n",
    "| rating_count_tot  | Number of user rating count for all ver  |\n",
    "| rating_count_ver  | Number of user rating count for cur ver  |\n",
    "| prime_genre       | primary genre                            |\n",
    "| currency          | Currency Type                            |"
   ]
  },
  {
   "cell_type": "markdown",
   "metadata": {},
   "source": [
    "## Data Cleaning"
   ]
  },
  {
   "cell_type": "markdown",
   "metadata": {},
   "source": [
    "### Detecting and Deleting Wrong Data"
   ]
  },
  {
   "cell_type": "markdown",
   "metadata": {},
   "source": [
    "The Google Play data set has a dedicated [discussion section](https://www.kaggle.com/lava18/google-play-store-apps/discussion), and [one of the discussion](https://www.kaggle.com/lava18/google-play-store-apps/discussion/66015) describes an error for a certain row.\n",
    "\n"
   ]
  },
  {
   "cell_type": "code",
   "execution_count": 5,
   "metadata": {},
   "outputs": [
    {
     "name": "stdout",
     "output_type": "stream",
     "text": [
      "Wrong data:  ['Life Made WI-Fi Touchscreen Photo Frame', '1.9', '19', '3.0M', '1,000+', 'Free', '0', 'Everyone', '', 'February 11, 2018', '1.0.19', '4.0 and up'] \n",
      "\n",
      "List of Features:  ['App', 'Category', 'Rating', 'Reviews', 'Size', 'Installs', 'Type', 'Price', 'Content Rating', 'Genres', 'Last Updated', 'Current Ver', 'Android Ver'] \n",
      "\n",
      "Example of right data:  ['Photo Editor & Candy Camera & Grid & ScrapBook', 'ART_AND_DESIGN', '4.1', '159', '19M', '10,000+', 'Free', '0', 'Everyone', 'Art & Design', 'January 7, 2018', '1.0.0', '4.0.3 and up']\n"
     ]
    }
   ],
   "source": [
    "print('Wrong data: ',android_data[10472],'\\n')\n",
    "print('List of Features: ',android_header,'\\n')\n",
    "print('Example of right data: ',android_data[0])"
   ]
  },
  {
   "cell_type": "markdown",
   "metadata": {},
   "source": [
    "It is right from the discussion, that the data in index:**10472** (without header) is a wrong data because **Content Rating** feature has a blank value. Also, as we can see the **Rating** of that app reach **19**, and it is clearly off because the maximum rating for a Google Play App is a **5**.\n",
    "\n",
    "So, need to delete the row of that wrong data from the Google Play data set."
   ]
  },
  {
   "cell_type": "code",
   "execution_count": 6,
   "metadata": {},
   "outputs": [
    {
     "name": "stdout",
     "output_type": "stream",
     "text": [
      "10840\n"
     ]
    }
   ],
   "source": [
    "del android_data[10472]\n",
    "print(len(android_data))"
   ]
  },
  {
   "cell_type": "markdown",
   "metadata": {},
   "source": [
    "### Removing Duplicate Entries"
   ]
  },
  {
   "cell_type": "markdown",
   "metadata": {},
   "source": [
    "#### Part One"
   ]
  },
  {
   "cell_type": "markdown",
   "metadata": {},
   "source": [
    "After cleaning the wrong data, in this part will delete the duplicate entries in Google Play data set (look at the [discussion section](https://www.kaggle.com/lava18/google-play-store-apps/discussion)). Duplicate entries cases where an application appears more than once in a data set. For example, Instagram has four entries in Google Play data set:"
   ]
  },
  {
   "cell_type": "code",
   "execution_count": 7,
   "metadata": {},
   "outputs": [
    {
     "name": "stdout",
     "output_type": "stream",
     "text": [
      "2545 ['Instagram', 'SOCIAL', '4.5', '66577313', 'Varies with device', '1,000,000,000+', 'Free', '0', 'Teen', 'Social', 'July 31, 2018', 'Varies with device', 'Varies with device']\n",
      "2604 ['Instagram', 'SOCIAL', '4.5', '66577446', 'Varies with device', '1,000,000,000+', 'Free', '0', 'Teen', 'Social', 'July 31, 2018', 'Varies with device', 'Varies with device']\n",
      "2611 ['Instagram', 'SOCIAL', '4.5', '66577313', 'Varies with device', '1,000,000,000+', 'Free', '0', 'Teen', 'Social', 'July 31, 2018', 'Varies with device', 'Varies with device']\n",
      "3909 ['Instagram', 'SOCIAL', '4.5', '66509917', 'Varies with device', '1,000,000,000+', 'Free', '0', 'Teen', 'Social', 'July 31, 2018', 'Varies with device', 'Varies with device']\n"
     ]
    }
   ],
   "source": [
    "for i in range(len(android_data)):\n",
    "    name=android_data[i][0]\n",
    "    if name=='Instagram':\n",
    "        print(i,android_data[i])"
   ]
  },
  {
   "cell_type": "markdown",
   "metadata": {},
   "source": [
    "We will count how many cases are duplicate entries in Google Play data set."
   ]
  },
  {
   "cell_type": "code",
   "execution_count": 8,
   "metadata": {},
   "outputs": [
    {
     "name": "stdout",
     "output_type": "stream",
     "text": [
      "Number of duplicate entries:  1181\n",
      "Example of duplicate entries:  ['Quick PDF Scanner + OCR FREE', 'Box', 'Google My Business', 'ZOOM Cloud Meetings', 'join.me - Simple Meetings']\n"
     ]
    }
   ],
   "source": [
    "duplicate = []\n",
    "unique=[]\n",
    "for row in android_data:\n",
    "    name=row[0]\n",
    "    if name in unique:\n",
    "        duplicate.append(name)\n",
    "    else: unique.append(name)\n",
    "print(\"Number of duplicate entries: \",len(duplicate))\n",
    "print(\"Example of duplicate entries: \",duplicate[:5])"
   ]
  },
  {
   "cell_type": "markdown",
   "metadata": {},
   "source": [
    "From the result, we can see that there are 1,181 cases for duplicate entries in Google Play datset. To handle this case, we don't want to count certain apps more than once when analyze data, so we need to remove the duplicate entries and keep only one entry per app. One thing we could do is remove the duplicate rows randomly, but there is still another way and better than this. "
   ]
  },
  {
   "cell_type": "markdown",
   "metadata": {},
   "source": [
    "If we back to Instagram's rows example, there are four difference in every row, and that is in index 3 (remember that list in Python start with 0). To find what column is it for index 3, then we can print it below:"
   ]
  },
  {
   "cell_type": "code",
   "execution_count": 9,
   "metadata": {},
   "outputs": [
    {
     "name": "stdout",
     "output_type": "stream",
     "text": [
      "0 App\n",
      "1 Category\n",
      "2 Rating\n",
      "3 Reviews\n",
      "4 Size\n",
      "5 Installs\n",
      "6 Type\n",
      "7 Price\n",
      "8 Content Rating\n",
      "9 Genres\n",
      "10 Last Updated\n",
      "11 Current Ver\n",
      "12 Android Ver\n"
     ]
    }
   ],
   "source": [
    "for i in range(len(android_header)):\n",
    "    print(i,android_header[i])"
   ]
  },
  {
   "cell_type": "markdown",
   "metadata": {},
   "source": [
    "So, the differences that occurs in every Instagram's row is number of reviews. The different numbers show the data was collected at different times. Using this information, the criterion for removing the duplicates entries can be build. Main important thing that we can get from this information is **the higher number of reviews, the more recent the data should be**."
   ]
  },
  {
   "cell_type": "markdown",
   "metadata": {},
   "source": [
    "#### Part Two"
   ]
  },
  {
   "cell_type": "markdown",
   "metadata": {},
   "source": [
    "Instead of removing the duplicates randomly, just keep the row with the highest number of reviews and remove the other entries for any given app. To remove the duplicates, the steps are:\n",
    "1. Create a dictionary, where each dictionary key is a unique app name and the corresponding dictionary value is the highest number of reviews of that app\n",
    "2. Use the information stored in dictionary and create a new data set, which will have only entry per app (and for each app, only select the entry with the highest number of reviews)"
   ]
  },
  {
   "cell_type": "markdown",
   "metadata": {},
   "source": [
    "##### Step 1\n",
    "\n",
    "In this step, we build a dictionary to save the highest number of review from every app. "
   ]
  },
  {
   "cell_type": "code",
   "execution_count": 10,
   "metadata": {},
   "outputs": [],
   "source": [
    "reviews_max={}\n",
    "for row in android_data:\n",
    "    name = row[0]\n",
    "    n_reviews=float(row[3])\n",
    "    if name in reviews_max and reviews_max[name] < n_reviews:\n",
    "        reviews_max[name]=n_reviews\n",
    "    reviews_max[name]=n_reviews"
   ]
  },
  {
   "cell_type": "markdown",
   "metadata": {},
   "source": [
    "In **Part One** we knew that there are **1,181 of duplicate entries** that we have. So, for make sure our dictionary doesnt have an app occurs more than once (of unique apps) it should be equal to the difference between the length of our data set and 1,181."
   ]
  },
  {
   "cell_type": "code",
   "execution_count": 11,
   "metadata": {},
   "outputs": [
    {
     "name": "stdout",
     "output_type": "stream",
     "text": [
      "Expected Length:  9659\n",
      "Actual Length of Dictionary:  9659\n",
      "Example of the Highest number of review for Instagram:  66509917.0\n"
     ]
    }
   ],
   "source": [
    "print(\"Expected Length: \",len(android_data)-1181)\n",
    "print(\"Actual Length of Dictionary: \",len(reviews_max))\n",
    "print(\"Example of the Highest number of review for Instagram: \",reviews_max[\"Instagram\"])"
   ]
  },
  {
   "cell_type": "markdown",
   "metadata": {},
   "source": [
    "##### Step 2\n",
    "\n",
    "Next, we need to make a new data set that stored only one entry per app with the highest number of reviews. In the code below:\n",
    "\n",
    "- Create two empty lists, `android_clean` (will store new data set) and `already_dead` (will store app names)\n",
    "- Do looping in Google Play data set without header (`android_data`) for each row:\n",
    "    - Assign app name (in index 0)\n",
    "    - Convert the type of number of reviews (in index 3) to `float`  and asssign it into a variable\n",
    "    - Add the current row into `android_clean` and the app name into `already_dead`, **if**:\n",
    "        - The number of reviews equal with the highest number of reviews from `reviews_max` dictionary for that app; and\n",
    "        - The name of the app not already in `already_dead`. This part is important to handle a case when there are more than one entry has highest number of reviews for an app.\n"
   ]
  },
  {
   "cell_type": "code",
   "execution_count": 12,
   "metadata": {},
   "outputs": [],
   "source": [
    "android_clean = []\n",
    "already_dead=[]\n",
    "for row in android_data:\n",
    "    name = row[0]\n",
    "    n_reviews = float(row[3])\n",
    "    if (n_reviews == reviews_max[name]) and (name not in already_dead):\n",
    "        android_clean.append(row)\n",
    "        already_dead.append(name)"
   ]
  },
  {
   "cell_type": "markdown",
   "metadata": {},
   "source": [
    "Now, just make sure that our new data set already same with the criterion using `explore_data` function that we already build and the number of rows is **9659**."
   ]
  },
  {
   "cell_type": "code",
   "execution_count": 13,
   "metadata": {},
   "outputs": [
    {
     "name": "stdout",
     "output_type": "stream",
     "text": [
      "['Photo Editor & Candy Camera & Grid & ScrapBook', 'ART_AND_DESIGN', '4.1', '159', '19M', '10,000+', 'Free', '0', 'Everyone', 'Art & Design', 'January 7, 2018', '1.0.0', '4.0.3 and up'] \n",
      "\n",
      "['U Launcher Lite – FREE Live Cool Themes, Hide Apps', 'ART_AND_DESIGN', '4.7', '87510', '8.7M', '5,000,000+', 'Free', '0', 'Everyone', 'Art & Design', 'August 1, 2018', '1.2.4', '4.0.3 and up'] \n",
      "\n",
      "['Sketch - Draw & Paint', 'ART_AND_DESIGN', '4.5', '215644', '25M', '50,000,000+', 'Free', '0', 'Teen', 'Art & Design', 'June 8, 2018', 'Varies with device', '4.2 and up'] \n",
      "\n",
      "Number of rows:  9659\n",
      "Number of columns:  13\n"
     ]
    }
   ],
   "source": [
    "explore_data(android_clean,True)"
   ]
  },
  {
   "cell_type": "markdown",
   "metadata": {},
   "source": [
    "### Removing Non-English Apps"
   ]
  },
  {
   "cell_type": "markdown",
   "metadata": {},
   "source": [
    "Remember that we use English for the apps we develop at our company, and we'd like to analyze only the apps that are directed toward an English-speaking audience. "
   ]
  },
  {
   "cell_type": "markdown",
   "metadata": {},
   "source": [
    "#### Part One"
   ]
  },
  {
   "cell_type": "markdown",
   "metadata": {},
   "source": [
    "If we explore the data long enough, we'll find that both data sets have apps with names that suggest they are not directed toward an English-speaking audience. Below, we see a couple of examples from both data sets (iOS data sets and Android data sets that has been cleaned):"
   ]
  },
  {
   "cell_type": "code",
   "execution_count": 14,
   "metadata": {},
   "outputs": [
    {
     "name": "stdout",
     "output_type": "stream",
     "text": [
      "爱奇艺PPS -《欢乐颂2》电视剧热播\n",
      "【脱出ゲーム】絶対に最後までプレイしないで 〜謎解き＆ブロックパズル〜\n",
      "-----------\n",
      "中国語 AQリスニング\n",
      "لعبة تقدر تربح DZ\n"
     ]
    }
   ],
   "source": [
    "print(ios_data[813][1])\n",
    "print(ios_data[6731][1])\n",
    "print('-----------')\n",
    "print(android_clean[4360][0])\n",
    "print(android_clean[7939][0])"
   ]
  },
  {
   "cell_type": "markdown",
   "metadata": {},
   "source": [
    "We're not interested in keeping these apps. so we'll remove them. One way to go about this is to remove each app with a name containing symbol that is not commonly used in English text, which is usually includes letters from the English alphabet, number composed of digits from 0 to 9, punctuation marks (.,!,?,;), and other symbols (+,*,/)"
   ]
  },
  {
   "cell_type": "markdown",
   "metadata": {},
   "source": [
    "All numbers corresponding to characters that commonly use in English text are in range 0-127, according to the ASCII. Based on this range, we can build a function that detects a character belongs to the set of common English characters or not. "
   ]
  },
  {
   "cell_type": "code",
   "execution_count": 15,
   "metadata": {},
   "outputs": [],
   "source": [
    "def isEnglish(strings):\n",
    "    for char in strings:\n",
    "        if ord(char) > 127:\n",
    "            return False\n",
    "            break\n",
    "            \n",
    "    return True"
   ]
  },
  {
   "cell_type": "code",
   "execution_count": 16,
   "metadata": {},
   "outputs": [
    {
     "name": "stdout",
     "output_type": "stream",
     "text": [
      "True\n",
      "False\n",
      "False\n",
      "False\n"
     ]
    }
   ],
   "source": [
    "instagram = 'Instagram'\n",
    "pps = '爱奇艺PPS -《欢乐颂2》电视剧热播'\n",
    "docs='Docs To Go™ Free Office Suite'\n",
    "instachat='Instachat 😜'\n",
    "print(isEnglish(instagram))\n",
    "print(isEnglish(pps))\n",
    "print(isEnglish(docs))\n",
    "print(isEnglish(instachat))"
   ]
  },
  {
   "cell_type": "markdown",
   "metadata": {},
   "source": [
    "The `isEnglish()` function return right answer for `instagram` and `pps`, but return incorrect values for the next `docs` and `instachat`, which is the right values must be **True** because both are in English text. As you can see above, the last two strings has symbols that are not alphabet character. This results in the ASCII value for the symbols being more than 127, thereby returning the **False** value for both strings. Let see the number of ASCII from that symbols, below:"
   ]
  },
  {
   "cell_type": "code",
   "execution_count": 17,
   "metadata": {},
   "outputs": [
    {
     "name": "stdout",
     "output_type": "stream",
     "text": [
      "™ 8482\n",
      "😜 128540\n"
     ]
    }
   ],
   "source": [
    "for char in docs:\n",
    "    if ord(char)>127:\n",
    "        print(char,ord(char))\n",
    "\n",
    "for char in instachat:\n",
    "    if ord(char)>127:\n",
    "        print(char,ord(char))"
   ]
  },
  {
   "cell_type": "markdown",
   "metadata": {},
   "source": [
    "From the result means that `isEnglish()` function need to be fix, to handle any kind of symbols that appeared in English text."
   ]
  },
  {
   "cell_type": "markdown",
   "metadata": {},
   "source": [
    "#### Part Two"
   ]
  },
  {
   "cell_type": "markdown",
   "metadata": {},
   "source": [
    "In this part we will be fix the `isEnglish()` function, so we'll not going to lose useful data, since many English app will be incorrectly labeled as non-English. To minimize the impact of data loss, just remove an app if its name has more than three characters with corresponding numbers falling outside the ASCII range."
   ]
  },
  {
   "cell_type": "code",
   "execution_count": 18,
   "metadata": {},
   "outputs": [],
   "source": [
    "def isEnglish(strings):\n",
    "    count=0\n",
    "    for char in strings:\n",
    "        if ord(char)>127:\n",
    "            count+=1\n",
    "    if count>3: return False\n",
    "    return True"
   ]
  },
  {
   "cell_type": "markdown",
   "metadata": {},
   "source": [
    "Lets try using `pps`, `docs`, and `instachat` strings to check the result of the new `isEnglish()` function (do not need to check with `instagram` because there are no symbol in that string)."
   ]
  },
  {
   "cell_type": "code",
   "execution_count": 19,
   "metadata": {},
   "outputs": [
    {
     "name": "stdout",
     "output_type": "stream",
     "text": [
      "True\n",
      "False\n",
      "True\n",
      "True\n"
     ]
    }
   ],
   "source": [
    "pps = '爱奇艺PPS -《欢乐颂2》电视剧热播'\n",
    "docs='Docs To Go™ Free Office Suite'\n",
    "instachat='Instachat 😜'\n",
    "print(isEnglish(instagram))\n",
    "print(isEnglish(pps))\n",
    "print(isEnglish(docs))\n",
    "print(isEnglish(instachat))"
   ]
  },
  {
   "cell_type": "markdown",
   "metadata": {},
   "source": [
    "As we can see, the function already return the right answer. Now, we will using `isEnglish()` to filter out non-English app from android data sets and iOS data sets."
   ]
  },
  {
   "cell_type": "code",
   "execution_count": 27,
   "metadata": {},
   "outputs": [],
   "source": [
    "android_english=[]\n",
    "ios_english=[]\n",
    "\n",
    "for row in android_clean:\n",
    "    name=row[0]\n",
    "    if isEnglish(name)==True:\n",
    "        android_english.append(row)\n",
    "\n",
    "for row in ios_data:\n",
    "    name=row[1]\n",
    "    if isEnglish(name)==True:\n",
    "        ios_english.append(row)"
   ]
  },
  {
   "cell_type": "code",
   "execution_count": 28,
   "metadata": {},
   "outputs": [
    {
     "name": "stdout",
     "output_type": "stream",
     "text": [
      "['Photo Editor & Candy Camera & Grid & ScrapBook', 'ART_AND_DESIGN', '4.1', '159', '19M', '10,000+', 'Free', '0', 'Everyone', 'Art & Design', 'January 7, 2018', '1.0.0', '4.0.3 and up'] \n",
      "\n",
      "['U Launcher Lite – FREE Live Cool Themes, Hide Apps', 'ART_AND_DESIGN', '4.7', '87510', '8.7M', '5,000,000+', 'Free', '0', 'Everyone', 'Art & Design', 'August 1, 2018', '1.2.4', '4.0.3 and up'] \n",
      "\n",
      "['Sketch - Draw & Paint', 'ART_AND_DESIGN', '4.5', '215644', '25M', '50,000,000+', 'Free', '0', 'Teen', 'Art & Design', 'June 8, 2018', 'Varies with device', '4.2 and up'] \n",
      "\n",
      "Number of rows:  9614\n",
      "Number of columns:  13\n"
     ]
    }
   ],
   "source": [
    "explore_data(android_english, True)"
   ]
  },
  {
   "cell_type": "code",
   "execution_count": 29,
   "metadata": {},
   "outputs": [
    {
     "name": "stdout",
     "output_type": "stream",
     "text": [
      "['284882215', 'Facebook', '389879808', 'USD', '0.0', '2974676', '212', '3.5', '3.5', '95.0', '4+', 'Social Networking', '37', '1', '29', '1'] \n",
      "\n",
      "['389801252', 'Instagram', '113954816', 'USD', '0.0', '2161558', '1289', '4.5', '4.0', '10.23', '12+', 'Photo & Video', '37', '0', '29', '1'] \n",
      "\n",
      "['529479190', 'Clash of Clans', '116476928', 'USD', '0.0', '2130805', '579', '4.5', '4.5', '9.24.12', '9+', 'Games', '38', '5', '18', '1'] \n",
      "\n",
      "Number of rows:  6183\n",
      "Number of columns:  16\n"
     ]
    }
   ],
   "source": [
    "explore_data(ios_english, True)"
   ]
  },
  {
   "cell_type": "markdown",
   "metadata": {},
   "source": [
    "After removing non-English app that did not match the criteria, now we just have **9614 data** from Android and **6183 data** from iOS."
   ]
  },
  {
   "cell_type": "markdown",
   "metadata": {},
   "source": [
    "### Isolating the Free Apps"
   ]
  },
  {
   "cell_type": "markdown",
   "metadata": {},
   "source": [
    "As mentioned in introduction, the company just build apps that are free to download and installs, and our main source of revenue consists of in-app adds. But, both of data sets (Android and iOS) contain free and non-free apps. So, in this part we need to isolate only the free apps for our analysis. Isolating the free apps is last step in data cleaning process."
   ]
  },
  {
   "cell_type": "markdown",
   "metadata": {},
   "source": [
    "First, we need to know the number of column that has information about paid or free applications."
   ]
  },
  {
   "cell_type": "code",
   "execution_count": 35,
   "metadata": {},
   "outputs": [
    {
     "name": "stdout",
     "output_type": "stream",
     "text": [
      "['App', 'Category', 'Rating', 'Reviews', 'Size', 'Installs', 'Type', 'Price', 'Content Rating', 'Genres', 'Last Updated', 'Current Ver', 'Android Ver']\n",
      "['id', 'track_name', 'size_bytes', 'currency', 'price', 'rating_count_tot', 'rating_count_ver', 'user_rating', 'user_rating_ver', 'ver', 'cont_rating', 'prime_genre', 'sup_devices.num', 'ipadSc_urls.num', 'lang.num', 'vpp_lic']\n"
     ]
    }
   ],
   "source": [
    "print(android_header)\n",
    "print(ios_header)"
   ]
  },
  {
   "cell_type": "markdown",
   "metadata": {},
   "source": [
    "From part of `Open and Exploring the Data`, for Android data sets it is **price** column in index 7, and for iOS data sets it is **price** column in index 4. Now, we can start to isolate the free apps below:"
   ]
  },
  {
   "cell_type": "code",
   "execution_count": 47,
   "metadata": {},
   "outputs": [],
   "source": [
    "android_free=[]\n",
    "ios_free=[]\n",
    "\n",
    "for row in android_english:\n",
    "    price = row[7]\n",
    "    if  price == '0':\n",
    "        android_free.append(row)\n",
    "for row in ios_english:\n",
    "    price = float(row[4])\n",
    "    if price==0.0:\n",
    "        ios_free.append(row)"
   ]
  },
  {
   "cell_type": "code",
   "execution_count": 48,
   "metadata": {},
   "outputs": [
    {
     "name": "stdout",
     "output_type": "stream",
     "text": [
      "8864\n",
      "3222\n"
     ]
    }
   ],
   "source": [
    "print(len(android_free))\n",
    "print(len(ios_free))"
   ]
  },
  {
   "cell_type": "markdown",
   "metadata": {},
   "source": [
    "Now, we have **8864 free apps** for Android and **3222 free apps** for iOs."
   ]
  },
  {
   "cell_type": "markdown",
   "metadata": {},
   "source": [
    "## Data Analysis"
   ]
  },
  {
   "cell_type": "markdown",
   "metadata": {},
   "source": [
    "After finish cleaning the data, now we start to analysis data sets to determine the kind of apps that are likely to attract more users because our revenue is highly influenced by the number of people using our apps.\n",
    "\n",
    "To minimize risks and overhead, our validation strategy for an app idea is comprised of three steps:\n",
    "    1. Build a minimal Android version of the app, and add it to Google Play\n",
    "    2. If the app has a good response from users, we develop it further\n",
    "    3. If the app is profitable after six months, we build an iOS version of the app and add it to the App Store\n",
    "\n",
    "Because our end goal is to add the app on both Google Play and App Store, we need to find app profiles that are successful on both markets. For instance, a profile that works well for both markets might be a productivity app that makes use gamification.\n",
    "\n",
    "Before start our analysis, we can categorize the category of successfull app profiles based on Genre, and that are:\n",
    "- Most Common Apps by Genre\n",
    "- Most Popular Apps by Genre"
   ]
  },
  {
   "cell_type": "markdown",
   "metadata": {},
   "source": [
    "### Most Common Apss by Genre"
   ]
  },
  {
   "cell_type": "markdown",
   "metadata": {},
   "source": [
    "In this part, we will find the most common genre on the market based on the percentage of application with that genre in data set."
   ]
  },
  {
   "cell_type": "markdown",
   "metadata": {},
   "source": [
    "#### Part One"
   ]
  },
  {
   "cell_type": "markdown",
   "metadata": {},
   "source": [
    "First, we need to know what feature that needed to find out the genre of apps in Android data sets and iOS data sets. From the part of `Open and Exploring the Data`, useful features and their descriptions have been determined and we can know that:\n",
    "1. For Android data sets, features related to genre are `Category` and `Genres`. \n",
    "2. For iOS data sets, there is only one feature related to the genre namely `prime_genre`\n",
    "\n",
    "Next, we need to find the index of that features."
   ]
  },
  {
   "cell_type": "code",
   "execution_count": 49,
   "metadata": {},
   "outputs": [
    {
     "name": "stdout",
     "output_type": "stream",
     "text": [
      "1 Category\n",
      "9 Genres\n",
      "11 prime_genre\n"
     ]
    }
   ],
   "source": [
    "for i in range(len(android_header)):\n",
    "    if android_header[i]=='Category' or android_header[i]=='Genres':\n",
    "        print(i,android_header[i])\n",
    "for i in range(len(ios_header)):\n",
    "    if ios_header[i]=='prime_genre':\n",
    "        print(i,ios_header[i])"
   ]
  },
  {
   "cell_type": "markdown",
   "metadata": {},
   "source": [
    "So, for Android data sets we will use index `1` and `9` and for iOS data sets the index is `11`."
   ]
  },
  {
   "cell_type": "markdown",
   "metadata": {},
   "source": [
    "#### Part Two"
   ]
  },
  {
   "cell_type": "markdown",
   "metadata": {},
   "source": [
    "Based on information above, we will build two functions we can use to analyze the frequency tables:\n",
    "- One function to generate frequency tables that show percentages\n",
    "- Another function we can use to display the percentages in a descending order"
   ]
  },
  {
   "cell_type": "code",
   "execution_count": 50,
   "metadata": {},
   "outputs": [],
   "source": [
    "def freq_table(dataset,index):\n",
    "    freq={}\n",
    "    freq_percent={}\n",
    "    total=0\n",
    "    for row in dataset:\n",
    "        total+=1\n",
    "        genre=row[index]\n",
    "        if genre in freq:\n",
    "            freq[genre]+=1\n",
    "        else: freq[genre]=1\n",
    "    \n",
    "    for genre in freq:\n",
    "        freq_percent[genre]=(freq[genre]/total)*100\n",
    "    \n",
    "    return freq_percent"
   ]
  },
  {
   "cell_type": "code",
   "execution_count": 51,
   "metadata": {},
   "outputs": [],
   "source": [
    "def display_table(dataset,index):\n",
    "    table = freq_table(dataset,index)\n",
    "    table_display=[]\n",
    "    for genre in table:\n",
    "        genre_percent_tuple = (table[genre],genre)\n",
    "        table_display.append(genre_percent_tuple)\n",
    "    \n",
    "    table_sorted=sorted(table_display,reverse=True)\n",
    "    for data in table_sorted:\n",
    "        print(data[1],':',data[0])"
   ]
  },
  {
   "cell_type": "markdown",
   "metadata": {},
   "source": [
    "##### Android Dat set Table"
   ]
  },
  {
   "cell_type": "markdown",
   "metadata": {},
   "source": [
    "Based on `Category` in index `1`."
   ]
  },
  {
   "cell_type": "code",
   "execution_count": 52,
   "metadata": {},
   "outputs": [
    {
     "name": "stdout",
     "output_type": "stream",
     "text": [
      "FAMILY : 19.223826714801444\n",
      "GAME : 9.510379061371841\n",
      "TOOLS : 8.461191335740072\n",
      "BUSINESS : 4.580324909747293\n",
      "LIFESTYLE : 3.9034296028880866\n",
      "PRODUCTIVITY : 3.892148014440433\n",
      "FINANCE : 3.7003610108303246\n",
      "MEDICAL : 3.5424187725631766\n",
      "SPORTS : 3.4183212996389893\n",
      "PERSONALIZATION : 3.3167870036101084\n",
      "COMMUNICATION : 3.2490974729241873\n",
      "HEALTH_AND_FITNESS : 3.068592057761733\n",
      "PHOTOGRAPHY : 2.944494584837545\n",
      "NEWS_AND_MAGAZINES : 2.7978339350180503\n",
      "SOCIAL : 2.6624548736462095\n",
      "TRAVEL_AND_LOCAL : 2.33528880866426\n",
      "SHOPPING : 2.2450361010830324\n",
      "BOOKS_AND_REFERENCE : 2.1435018050541514\n",
      "DATING : 1.861462093862816\n",
      "VIDEO_PLAYERS : 1.782490974729242\n",
      "MAPS_AND_NAVIGATION : 1.3989169675090252\n",
      "FOOD_AND_DRINK : 1.2409747292418771\n",
      "EDUCATION : 1.128158844765343\n",
      "LIBRARIES_AND_DEMO : 0.9363718411552346\n",
      "AUTO_AND_VEHICLES : 0.9250902527075812\n",
      "ENTERTAINMENT : 0.8799638989169676\n",
      "HOUSE_AND_HOME : 0.8235559566787004\n",
      "WEATHER : 0.8009927797833934\n",
      "EVENTS : 0.7107400722021661\n",
      "PARENTING : 0.6543321299638989\n",
      "ART_AND_DESIGN : 0.6430505415162455\n",
      "COMICS : 0.6204873646209386\n",
      "BEAUTY : 0.5979241877256317\n"
     ]
    }
   ],
   "source": [
    "display_table(android_free,1)"
   ]
  },
  {
   "cell_type": "markdown",
   "metadata": {},
   "source": [
    "Based on `Genres` in index `9`."
   ]
  },
  {
   "cell_type": "code",
   "execution_count": 54,
   "metadata": {},
   "outputs": [
    {
     "name": "stdout",
     "output_type": "stream",
     "text": [
      "Tools : 8.449909747292418\n",
      "Entertainment : 6.069494584837545\n",
      "Education : 5.347472924187725\n",
      "Business : 4.580324909747293\n",
      "Productivity : 3.892148014440433\n",
      "Lifestyle : 3.892148014440433\n",
      "Finance : 3.7003610108303246\n",
      "Medical : 3.5424187725631766\n",
      "Sports : 3.463447653429603\n",
      "Personalization : 3.3167870036101084\n",
      "Communication : 3.2490974729241873\n",
      "Action : 3.1024368231046933\n",
      "Health & Fitness : 3.068592057761733\n",
      "Photography : 2.944494584837545\n",
      "News & Magazines : 2.7978339350180503\n",
      "Social : 2.6624548736462095\n",
      "Travel & Local : 2.3240072202166067\n",
      "Shopping : 2.2450361010830324\n",
      "Books & Reference : 2.1435018050541514\n",
      "Simulation : 2.0419675090252705\n",
      "Dating : 1.861462093862816\n",
      "Arcade : 1.861462093862816\n",
      "Video Players & Editors : 1.782490974729242\n",
      "Casual : 1.7486462093862816\n",
      "Maps & Navigation : 1.3989169675090252\n",
      "Food & Drink : 1.2409747292418771\n",
      "Puzzle : 1.128158844765343\n",
      "Racing : 0.9927797833935018\n",
      "Role Playing : 0.9363718411552346\n",
      "Libraries & Demo : 0.9363718411552346\n",
      "Auto & Vehicles : 0.9250902527075812\n",
      "Strategy : 0.9138086642599278\n",
      "House & Home : 0.8235559566787004\n",
      "Weather : 0.8009927797833934\n",
      "Events : 0.7107400722021661\n",
      "Adventure : 0.6768953068592057\n",
      "Comics : 0.6092057761732852\n",
      "Beauty : 0.5979241877256317\n",
      "Art & Design : 0.5979241877256317\n",
      "Parenting : 0.4963898916967509\n",
      "Card : 0.4399819494584838\n",
      "Casino : 0.42870036101083037\n",
      "Trivia : 0.41741877256317694\n",
      "Educational;Education : 0.39485559566787\n",
      "Board : 0.3835740072202166\n",
      "Educational : 0.3722924187725632\n",
      "Education;Education : 0.33844765342960287\n",
      "Word : 0.2594765342960289\n",
      "Casual;Pretend Play : 0.236913357400722\n",
      "Music : 0.2030685920577617\n",
      "Racing;Action & Adventure : 0.16922382671480143\n",
      "Puzzle;Brain Games : 0.16922382671480143\n",
      "Entertainment;Music & Video : 0.16922382671480143\n",
      "Casual;Brain Games : 0.13537906137184114\n",
      "Casual;Action & Adventure : 0.13537906137184114\n",
      "Arcade;Action & Adventure : 0.12409747292418773\n",
      "Action;Action & Adventure : 0.10153429602888085\n",
      "Educational;Pretend Play : 0.09025270758122744\n",
      "Simulation;Action & Adventure : 0.078971119133574\n",
      "Parenting;Education : 0.078971119133574\n",
      "Entertainment;Brain Games : 0.078971119133574\n",
      "Board;Brain Games : 0.078971119133574\n",
      "Parenting;Music & Video : 0.06768953068592057\n",
      "Educational;Brain Games : 0.06768953068592057\n",
      "Casual;Creativity : 0.06768953068592057\n",
      "Art & Design;Creativity : 0.06768953068592057\n",
      "Education;Pretend Play : 0.056407942238267145\n",
      "Role Playing;Pretend Play : 0.04512635379061372\n",
      "Education;Creativity : 0.04512635379061372\n",
      "Role Playing;Action & Adventure : 0.033844765342960284\n",
      "Puzzle;Action & Adventure : 0.033844765342960284\n",
      "Entertainment;Creativity : 0.033844765342960284\n",
      "Entertainment;Action & Adventure : 0.033844765342960284\n",
      "Educational;Creativity : 0.033844765342960284\n",
      "Educational;Action & Adventure : 0.033844765342960284\n",
      "Education;Music & Video : 0.033844765342960284\n",
      "Education;Brain Games : 0.033844765342960284\n",
      "Education;Action & Adventure : 0.033844765342960284\n",
      "Adventure;Action & Adventure : 0.033844765342960284\n",
      "Video Players & Editors;Music & Video : 0.02256317689530686\n",
      "Sports;Action & Adventure : 0.02256317689530686\n",
      "Simulation;Pretend Play : 0.02256317689530686\n",
      "Puzzle;Creativity : 0.02256317689530686\n",
      "Music;Music & Video : 0.02256317689530686\n",
      "Entertainment;Pretend Play : 0.02256317689530686\n",
      "Casual;Education : 0.02256317689530686\n",
      "Board;Action & Adventure : 0.02256317689530686\n",
      "Trivia;Education : 0.01128158844765343\n",
      "Travel & Local;Action & Adventure : 0.01128158844765343\n",
      "Tools;Education : 0.01128158844765343\n",
      "Strategy;Education : 0.01128158844765343\n",
      "Strategy;Creativity : 0.01128158844765343\n",
      "Strategy;Action & Adventure : 0.01128158844765343\n",
      "Simulation;Education : 0.01128158844765343\n",
      "Role Playing;Brain Games : 0.01128158844765343\n",
      "Racing;Pretend Play : 0.01128158844765343\n",
      "Puzzle;Education : 0.01128158844765343\n",
      "Parenting;Brain Games : 0.01128158844765343\n",
      "Music & Audio;Music & Video : 0.01128158844765343\n",
      "Lifestyle;Pretend Play : 0.01128158844765343\n",
      "Lifestyle;Education : 0.01128158844765343\n",
      "Health & Fitness;Education : 0.01128158844765343\n",
      "Health & Fitness;Action & Adventure : 0.01128158844765343\n",
      "Entertainment;Education : 0.01128158844765343\n",
      "Communication;Creativity : 0.01128158844765343\n",
      "Comics;Creativity : 0.01128158844765343\n",
      "Casual;Music & Video : 0.01128158844765343\n",
      "Card;Brain Games : 0.01128158844765343\n",
      "Card;Action & Adventure : 0.01128158844765343\n",
      "Books & Reference;Education : 0.01128158844765343\n",
      "Art & Design;Pretend Play : 0.01128158844765343\n",
      "Art & Design;Action & Adventure : 0.01128158844765343\n",
      "Arcade;Pretend Play : 0.01128158844765343\n",
      "Adventure;Education : 0.01128158844765343\n"
     ]
    }
   ],
   "source": [
    "display_table(android_free,9)"
   ]
  },
  {
   "cell_type": "markdown",
   "metadata": {},
   "source": [
    "##### iOS Data Set Table"
   ]
  },
  {
   "cell_type": "markdown",
   "metadata": {},
   "source": [
    "Based on `prime_category` in index `11`."
   ]
  },
  {
   "cell_type": "code",
   "execution_count": 55,
   "metadata": {},
   "outputs": [
    {
     "name": "stdout",
     "output_type": "stream",
     "text": [
      "Games : 58.16263190564867\n",
      "Entertainment : 7.883302296710118\n",
      "Photo & Video : 4.9658597144630665\n",
      "Education : 3.662321539416512\n",
      "Social Networking : 3.2898820608317814\n",
      "Shopping : 2.60707635009311\n",
      "Utilities : 2.5139664804469275\n",
      "Sports : 2.1415270018621975\n",
      "Music : 2.0484171322160147\n",
      "Health & Fitness : 2.0173805090006205\n",
      "Productivity : 1.7380509000620732\n",
      "Lifestyle : 1.5828677839851024\n",
      "News : 1.3345747982619491\n",
      "Travel : 1.2414649286157666\n",
      "Finance : 1.1173184357541899\n",
      "Weather : 0.8690254500310366\n",
      "Food & Drink : 0.8069522036002483\n",
      "Reference : 0.5586592178770949\n",
      "Business : 0.5276225946617008\n",
      "Book : 0.4345127250155183\n",
      "Navigation : 0.186219739292365\n",
      "Medical : 0.186219739292365\n",
      "Catalogs : 0.12414649286157665\n"
     ]
    }
   ],
   "source": [
    "display_table(ios_free,11)"
   ]
  }
 ],
 "metadata": {
  "kernelspec": {
   "display_name": "Python 3",
   "language": "python",
   "name": "python3"
  },
  "language_info": {
   "codemirror_mode": {
    "name": "ipython",
    "version": 3
   },
   "file_extension": ".py",
   "mimetype": "text/x-python",
   "name": "python",
   "nbconvert_exporter": "python",
   "pygments_lexer": "ipython3",
   "version": "3.7.0"
  }
 },
 "nbformat": 4,
 "nbformat_minor": 2
}
