{
 "cells": [
  {
   "cell_type": "markdown",
   "metadata": {},
   "source": [
    "# <center> Profitable App Profile for the Apple Store and Google Play Markets </center>\n",
    "\n",
    "<center> by: Chlaudiah Julinar Soplero Lelywiary </center>"
   ]
  },
  {
   "cell_type": "markdown",
   "metadata": {},
   "source": [
    "This project is to find the characteristics of mobile appplication that are prefreable in Apple Store and Google Play Store. As a data analyst who work in company that builds Android and iOS mobile apps, the job is to help the developers team to make a decision based on data-driven approach for decided what kind of apps that they should build. "
   ]
  },
  {
   "cell_type": "markdown",
   "metadata": {},
   "source": [
    "The company only build apps that are free to download and install and main source of revenue consites of in-app adds. This means our revenue for any given app is mostly influenced by the number of users who use our app. Our goal for this project is to analyze data to help our developers understand what kind of apps are likely to attract more users."
   ]
  },
  {
   "cell_type": "markdown",
   "metadata": {},
   "source": [
    "## Opening and Exploring the Data"
   ]
  },
  {
   "cell_type": "markdown",
   "metadata": {},
   "source": [
    "As of September 2018, there were approximately 2 million iOS apps available on the App Store and 2.1 million Android apps on Google Play (source from: [Statista](https://www.statista.com/statistics/276623/number-of-apps-available-in-leading-app-stores/))"
   ]
  },
  {
   "cell_type": "markdown",
   "metadata": {},
   "source": [
    "Collectiong data over 4 million apps requires a significant amount of time and money, so try to analyze a sample of the data instead. To avoid spending resources on collectiong new data ourselves try to see any relevant existing data without cost. There are two datasets below seem suitable for the goals:\n",
    "\n",
    "* [Google Apps Store Datasets](https://www.kaggle.com/lava18/google-play-store-apps/home) containing data about approximately **10.000** Android apps from Google Play that collected in August 2018.\n",
    "* [Apple iOS Apps Store Datasets](https://www.kaggle.com/ramamet4/app-store-apple-data-set-10k-apps/home) containing data about approximately **7.000** iOS apps from the App Store that collected in July 2017.\n",
    "\n",
    "Lets start by opening two data sets and then continue with exploring the data."
   ]
  },
  {
   "cell_type": "code",
   "execution_count": 1,
   "metadata": {},
   "outputs": [],
   "source": [
    "## OPEN TWO DATA SETS#\n",
    "\n",
    "from csv import reader\n",
    "\n",
    "#------- Google App Store Data sets------#\n",
    "open_android = open('googleplaystore.csv',encoding='utf-8')\n",
    "android_file = reader(open_android)\n",
    "android_lists = list(android_file)\n",
    "android_header = android_lists[0]\n",
    "android_data = android_lists[1:]\n",
    "\n",
    "#------- Apple iOS App Store Data sets------#\n",
    "open_ios = open('AppleStore.csv',encoding='utf-8')\n",
    "ios_file = reader(open_ios)\n",
    "ios_lists = list(ios_file)\n",
    "ios_header = ios_lists[0]\n",
    "ios_data = ios_lists[1:]"
   ]
  },
  {
   "cell_type": "code",
   "execution_count": 18,
   "metadata": {},
   "outputs": [],
   "source": [
    "# EXPLORE TWO DATA SETS #\n",
    "def explore_data(lists, header=False):\n",
    "    for row in lists[:3]:\n",
    "        print(row,'\\n')\n",
    "        \n",
    "    if header:\n",
    "        print('Number of rows: ',len(lists))\n",
    "        print('Number of columns: ',len(lists[0]))"
   ]
  },
  {
   "cell_type": "code",
   "execution_count": 3,
   "metadata": {},
   "outputs": [
    {
     "name": "stdout",
     "output_type": "stream",
     "text": [
      "Android Data Explore: \n",
      "['App', 'Category', 'Rating', 'Reviews', 'Size', 'Installs', 'Type', 'Price', 'Content Rating', 'Genres', 'Last Updated', 'Current Ver', 'Android Ver'] \n",
      "\n",
      "['Photo Editor & Candy Camera & Grid & ScrapBook', 'ART_AND_DESIGN', '4.1', '159', '19M', '10,000+', 'Free', '0', 'Everyone', 'Art & Design', 'January 7, 2018', '1.0.0', '4.0.3 and up'] \n",
      "\n",
      "['Coloring book moana', 'ART_AND_DESIGN', '3.9', '967', '14M', '500,000+', 'Free', '0', 'Everyone', 'Art & Design;Pretend Play', 'January 15, 2018', '2.0.0', '4.0.3 and up'] \n",
      "\n",
      "Number of rows:  10841\n",
      "Number of columns:  13\n"
     ]
    }
   ],
   "source": [
    "print('Android Data Explore: ')\n",
    "android_explore = explore_data(android_lists, header=True)"
   ]
  },
  {
   "cell_type": "markdown",
   "metadata": {},
   "source": [
    "As we can see from the result, for Android Dataset has **13 feature** and **10841 data**. The features that might be useful for our goals are:\n",
    "\n",
    "| <center> Column Name </center> | <center> Description </center>                                |\n",
    "| ----------- | ------------------------------------------- |\n",
    "| App         | Application Name                            |\n",
    "| Category    | Category the app belongs to                 |\n",
    "| Rating      | Overall user rating of the app              |\n",
    "| Reviews     | Number of user reviews                      |\n",
    "| Installs    | Number of user download or install the app  |\n",
    "| Type        | a paid app or free app                      |\n",
    "| Genres      | Apart from the main category                |\n",
    "| Price       | Price of the app                            |"
   ]
  },
  {
   "cell_type": "code",
   "execution_count": 4,
   "metadata": {},
   "outputs": [
    {
     "name": "stdout",
     "output_type": "stream",
     "text": [
      "iOS Data Explore: \n",
      "['id', 'track_name', 'size_bytes', 'currency', 'price', 'rating_count_tot', 'rating_count_ver', 'user_rating', 'user_rating_ver', 'ver', 'cont_rating', 'prime_genre', 'sup_devices.num', 'ipadSc_urls.num', 'lang.num', 'vpp_lic'] \n",
      "\n",
      "['284882215', 'Facebook', '389879808', 'USD', '0.0', '2974676', '212', '3.5', '3.5', '95.0', '4+', 'Social Networking', '37', '1', '29', '1'] \n",
      "\n",
      "['389801252', 'Instagram', '113954816', 'USD', '0.0', '2161558', '1289', '4.5', '4.0', '10.23', '12+', 'Photo & Video', '37', '0', '29', '1'] \n",
      "\n",
      "Number of rows:  7197\n",
      "Number of columns:  16\n"
     ]
    }
   ],
   "source": [
    "print('iOS Data Explore: ')\n",
    "ios_explore = explore_data(ios_lists,True)"
   ]
  },
  {
   "cell_type": "markdown",
   "metadata": {},
   "source": [
    "For iOS data sets has **16 features** and **7197 data**. The features that might be useful are:\n",
    "\n",
    "| Column Name       |  Description                             |\n",
    "| -----------       | -----------------------------------------|\n",
    "| id                | Application ID                           |\n",
    "| track_name        | Application Name                         |\n",
    "| price             | price amount                             |\n",
    "| rating_count_tot  | Number of user rating count for all ver  |\n",
    "| rating_count_ver  | Number of user rating count for cur ver  |\n",
    "| prime_genre       | primary genre                            |\n",
    "| currency          | Currency Type                            |"
   ]
  },
  {
   "cell_type": "markdown",
   "metadata": {},
   "source": [
    "## Data Cleaning"
   ]
  },
  {
   "cell_type": "markdown",
   "metadata": {},
   "source": [
    "### Detecting and Deleting Wrong Data"
   ]
  },
  {
   "cell_type": "markdown",
   "metadata": {},
   "source": [
    "The Google Play data set has a dedicated [discussion section](https://www.kaggle.com/lava18/google-play-store-apps/discussion), and [one of the discussion](https://www.kaggle.com/lava18/google-play-store-apps/discussion/66015) describes an error for a certain row.\n",
    "\n"
   ]
  },
  {
   "cell_type": "code",
   "execution_count": 5,
   "metadata": {},
   "outputs": [
    {
     "name": "stdout",
     "output_type": "stream",
     "text": [
      "Wrong data:  ['Life Made WI-Fi Touchscreen Photo Frame', '1.9', '19', '3.0M', '1,000+', 'Free', '0', 'Everyone', '', 'February 11, 2018', '1.0.19', '4.0 and up'] \n",
      "\n",
      "List of Features:  ['App', 'Category', 'Rating', 'Reviews', 'Size', 'Installs', 'Type', 'Price', 'Content Rating', 'Genres', 'Last Updated', 'Current Ver', 'Android Ver'] \n",
      "\n",
      "Example of right data:  ['Photo Editor & Candy Camera & Grid & ScrapBook', 'ART_AND_DESIGN', '4.1', '159', '19M', '10,000+', 'Free', '0', 'Everyone', 'Art & Design', 'January 7, 2018', '1.0.0', '4.0.3 and up']\n"
     ]
    }
   ],
   "source": [
    "print('Wrong data: ',android_data[10472],'\\n')\n",
    "print('List of Features: ',android_header,'\\n')\n",
    "print('Example of right data: ',android_data[0])"
   ]
  },
  {
   "cell_type": "markdown",
   "metadata": {},
   "source": [
    "It is right from the discussion, that the data in index:**10472** (without header) is a wrong data because **Content Rating** feature has a blank value. Also, as we can see the **Rating** of that app reach **19**, and it is clearly off because the maximum rating for a Google Play App is a **5**.\n",
    "\n",
    "So, need to delete the row of that wrong data from the Google Play data set."
   ]
  },
  {
   "cell_type": "code",
   "execution_count": 6,
   "metadata": {},
   "outputs": [
    {
     "name": "stdout",
     "output_type": "stream",
     "text": [
      "10840\n"
     ]
    }
   ],
   "source": [
    "del android_data[10472]\n",
    "print(len(android_data))"
   ]
  },
  {
   "cell_type": "markdown",
   "metadata": {},
   "source": [
    "### Removing Duplicate Entries"
   ]
  },
  {
   "cell_type": "markdown",
   "metadata": {},
   "source": [
    "#### Part One"
   ]
  },
  {
   "cell_type": "markdown",
   "metadata": {},
   "source": [
    "After cleaning the wrong data, in this part will delete the duplicate entries in Google Play data set (look at the [discussion section](https://www.kaggle.com/lava18/google-play-store-apps/discussion)). Duplicate entries cases where an application appears more than once in a data set. For example, Instagram has four entries in Google Play data set:"
   ]
  },
  {
   "cell_type": "code",
   "execution_count": 7,
   "metadata": {},
   "outputs": [
    {
     "name": "stdout",
     "output_type": "stream",
     "text": [
      "2545 ['Instagram', 'SOCIAL', '4.5', '66577313', 'Varies with device', '1,000,000,000+', 'Free', '0', 'Teen', 'Social', 'July 31, 2018', 'Varies with device', 'Varies with device']\n",
      "2604 ['Instagram', 'SOCIAL', '4.5', '66577446', 'Varies with device', '1,000,000,000+', 'Free', '0', 'Teen', 'Social', 'July 31, 2018', 'Varies with device', 'Varies with device']\n",
      "2611 ['Instagram', 'SOCIAL', '4.5', '66577313', 'Varies with device', '1,000,000,000+', 'Free', '0', 'Teen', 'Social', 'July 31, 2018', 'Varies with device', 'Varies with device']\n",
      "3909 ['Instagram', 'SOCIAL', '4.5', '66509917', 'Varies with device', '1,000,000,000+', 'Free', '0', 'Teen', 'Social', 'July 31, 2018', 'Varies with device', 'Varies with device']\n"
     ]
    }
   ],
   "source": [
    "for i in range(len(android_data)):\n",
    "    name=android_data[i][0]\n",
    "    if name=='Instagram':\n",
    "        print(i,android_data[i])"
   ]
  },
  {
   "cell_type": "markdown",
   "metadata": {},
   "source": [
    "We will count how many cases are duplicate entries in Google Play data set."
   ]
  },
  {
   "cell_type": "code",
   "execution_count": 8,
   "metadata": {},
   "outputs": [
    {
     "name": "stdout",
     "output_type": "stream",
     "text": [
      "Number of duplicate entries:  1181\n",
      "Example of duplicate entries:  ['Quick PDF Scanner + OCR FREE', 'Box', 'Google My Business', 'ZOOM Cloud Meetings', 'join.me - Simple Meetings']\n"
     ]
    }
   ],
   "source": [
    "duplicate = []\n",
    "unique=[]\n",
    "for row in android_data:\n",
    "    name=row[0]\n",
    "    if name in unique:\n",
    "        duplicate.append(name)\n",
    "    else: unique.append(name)\n",
    "print(\"Number of duplicate entries: \",len(duplicate))\n",
    "print(\"Example of duplicate entries: \",duplicate[:5])"
   ]
  },
  {
   "cell_type": "markdown",
   "metadata": {},
   "source": [
    "From the result, we can see that there are 1,181 cases for duplicate entries in Google Play datset. To handle this case, we don't want to count certain apps more than once when analyze data, so we need to remove the duplicate entries and keep only one entry per app. One thing we could do is remove the duplicate rows randomly, but there is still another way and better than this. "
   ]
  },
  {
   "cell_type": "markdown",
   "metadata": {},
   "source": [
    "If we back to Instagram's rows example, there are four difference in every row, and that is in index 3 (remember that list in Python start with 0). To find what column is it for index 3, then we can print it below:"
   ]
  },
  {
   "cell_type": "code",
   "execution_count": 9,
   "metadata": {},
   "outputs": [
    {
     "name": "stdout",
     "output_type": "stream",
     "text": [
      "0 App\n",
      "1 Category\n",
      "2 Rating\n",
      "3 Reviews\n",
      "4 Size\n",
      "5 Installs\n",
      "6 Type\n",
      "7 Price\n",
      "8 Content Rating\n",
      "9 Genres\n",
      "10 Last Updated\n",
      "11 Current Ver\n",
      "12 Android Ver\n"
     ]
    }
   ],
   "source": [
    "for i in range(len(android_header)):\n",
    "    print(i,android_header[i])"
   ]
  },
  {
   "cell_type": "markdown",
   "metadata": {},
   "source": [
    "So, the differences that occurs in every Instagram's row is number of reviews. The different numbers show the data was collected at different times. Using this information, the criterion for removing the duplicates entries can be build. Main important thing that we can get from this information is **the higher number of reviews, the more recent the data should be**."
   ]
  },
  {
   "cell_type": "markdown",
   "metadata": {},
   "source": [
    "#### Part Two"
   ]
  },
  {
   "cell_type": "markdown",
   "metadata": {},
   "source": [
    "Instead of removing the duplicates randomly, just keep the row with the highest number of reviews and remove the other entries for any given app. To remove the duplicates, the steps are:\n",
    "1. Create a dictionary, where each dictionary key is a unique app name and the corresponding dictionary value is the highest number of reviews of that app\n",
    "2. Use the information stored in dictionary and create a new data set, which will have only entry per app (and for each app, only select the entry with the highest number of reviews)"
   ]
  },
  {
   "cell_type": "markdown",
   "metadata": {},
   "source": [
    "##### Step 1\n",
    "\n",
    "In this step, we build a dictionary to save the highest number of review from every app. "
   ]
  },
  {
   "cell_type": "code",
   "execution_count": 10,
   "metadata": {},
   "outputs": [],
   "source": [
    "reviews_max={}\n",
    "for row in android_data:\n",
    "    name = row[0]\n",
    "    n_reviews=float(row[3])\n",
    "    if name in reviews_max and reviews_max[name] < n_reviews:\n",
    "        reviews_max[name]=n_reviews\n",
    "    reviews_max[name]=n_reviews"
   ]
  },
  {
   "cell_type": "markdown",
   "metadata": {},
   "source": [
    "In **Part One** we knew that there are **1,181 of duplicate entries** that we have. So, for make sure our dictionary doesnt have an app occurs more than once (of unique apps) it should be equal to the difference between the length of our data set and 1,181."
   ]
  },
  {
   "cell_type": "code",
   "execution_count": 11,
   "metadata": {},
   "outputs": [
    {
     "name": "stdout",
     "output_type": "stream",
     "text": [
      "Expected Length:  9659\n",
      "Actual Length of Dictionary:  9659\n",
      "Example of the Highest number of review for Instagram:  66509917.0\n"
     ]
    }
   ],
   "source": [
    "print(\"Expected Length: \",len(android_data)-1181)\n",
    "print(\"Actual Length of Dictionary: \",len(reviews_max))\n",
    "print(\"Example of the Highest number of review for Instagram: \",reviews_max[\"Instagram\"])"
   ]
  },
  {
   "cell_type": "markdown",
   "metadata": {},
   "source": [
    "##### Step 2\n",
    "\n",
    "Next, we need to make a new data set that stored only one entry per app with the highest number of reviews. In the code below:\n",
    "\n",
    "- Create two empty lists, `android_clean` (will store new data set) and `already_dead` (will store app names)\n",
    "- Do looping in Google Play data set without header (`android_data`) for each row:\n",
    "    - Assign app name (in index 0)\n",
    "    - Convert the type of number of reviews (in index 3) to `float`  and asssign it into a variable\n",
    "    - Add the current row into `android_clean` and the app name into `already_dead`, **if**:\n",
    "        - The number of reviews equal with the highest number of reviews from `reviews_max` dictionary for that app; and\n",
    "        - The name of the app not already in `already_dead`. This part is important to handle a case when there are more than one entry has highest number of reviews for an app.\n"
   ]
  },
  {
   "cell_type": "code",
   "execution_count": 16,
   "metadata": {},
   "outputs": [],
   "source": [
    "android_clean = []\n",
    "already_dead=[]\n",
    "for row in android_data:\n",
    "    name = row[0]\n",
    "    n_reviews = float(row[3])\n",
    "    if (n_reviews == reviews_max[name]) and (name not in already_dead):\n",
    "        android_clean.append(row)\n",
    "        already_dead.append(name)"
   ]
  },
  {
   "cell_type": "markdown",
   "metadata": {},
   "source": [
    "Now, just make sure that our new data set already same with the criterion using `explore_data` function that we already build and the number of rows is **9659**."
   ]
  },
  {
   "cell_type": "code",
   "execution_count": 19,
   "metadata": {},
   "outputs": [
    {
     "name": "stdout",
     "output_type": "stream",
     "text": [
      "['Photo Editor & Candy Camera & Grid & ScrapBook', 'ART_AND_DESIGN', '4.1', '159', '19M', '10,000+', 'Free', '0', 'Everyone', 'Art & Design', 'January 7, 2018', '1.0.0', '4.0.3 and up'] \n",
      "\n",
      "['U Launcher Lite – FREE Live Cool Themes, Hide Apps', 'ART_AND_DESIGN', '4.7', '87510', '8.7M', '5,000,000+', 'Free', '0', 'Everyone', 'Art & Design', 'August 1, 2018', '1.2.4', '4.0.3 and up'] \n",
      "\n",
      "['Sketch - Draw & Paint', 'ART_AND_DESIGN', '4.5', '215644', '25M', '50,000,000+', 'Free', '0', 'Teen', 'Art & Design', 'June 8, 2018', 'Varies with device', '4.2 and up'] \n",
      "\n",
      "Number of rows:  9659\n",
      "Number of columns:  13\n"
     ]
    }
   ],
   "source": [
    "explore_data(android_clean,True)"
   ]
  },
  {
   "cell_type": "markdown",
   "metadata": {},
   "source": [
    "### Removing Non-English Apps"
   ]
  },
  {
   "cell_type": "markdown",
   "metadata": {},
   "source": [
    "#### Part One"
   ]
  },
  {
   "cell_type": "code",
   "execution_count": null,
   "metadata": {},
   "outputs": [],
   "source": []
  }
 ],
 "metadata": {
  "kernelspec": {
   "display_name": "Python 3",
   "language": "python",
   "name": "python3"
  },
  "language_info": {
   "codemirror_mode": {
    "name": "ipython",
    "version": 3
   },
   "file_extension": ".py",
   "mimetype": "text/x-python",
   "name": "python",
   "nbconvert_exporter": "python",
   "pygments_lexer": "ipython3",
   "version": "3.7.0"
  }
 },
 "nbformat": 4,
 "nbformat_minor": 2
}
