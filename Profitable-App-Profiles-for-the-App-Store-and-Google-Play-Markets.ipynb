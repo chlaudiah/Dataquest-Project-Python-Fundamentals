{
 "cells": [
  {
   "cell_type": "markdown",
   "metadata": {},
   "source": [
    "# Profitable App Profile for the Apple Store and Google Play Markets"
   ]
  },
  {
   "cell_type": "markdown",
   "metadata": {},
   "source": [
    "This project is to find the characteristics of mobile appplication that are prefreable in Apple Store and Google Play Store. As a data analyst who work in company that builds Android and iOS mobile apps, the job is to help the developers team to make a decision based on data-driven approach for decided what kind of apps that they should build. "
   ]
  },
  {
   "cell_type": "markdown",
   "metadata": {},
   "source": [
    "The company only build apps that are free to download and install and main source of revenue consites of in-app adds. This means our revenue for any given app is mostly influenced by the number of users who use our app. Our goal for this project is to analyze data to help our developers understand what kind of apps are likely to attract more users."
   ]
  },
  {
   "cell_type": "markdown",
   "metadata": {},
   "source": [
    "## Opening and Exploring the Data"
   ]
  },
  {
   "cell_type": "markdown",
   "metadata": {},
   "source": [
    "As of September 2018, there were approximately 2 million iOS apps available on the App Store and 2.1 million Android apps on Google Play (source from: [Statista](https://www.statista.com/statistics/276623/number-of-apps-available-in-leading-app-stores/))"
   ]
  },
  {
   "cell_type": "markdown",
   "metadata": {},
   "source": [
    "Collectiong data over 4 million apps requires a significant amount of time and money, so try to analyze a sample of the data instead. To avoid spending resources on collectiong new data ourselves try to see any relevant existing data without cost. There are two datasets below seem suitable for the goals:\n",
    "\n",
    "* [Google Apps Store Datasets](https://www.kaggle.com/lava18/google-play-store-apps/home) containing data about approximately **10.000** Android apps from Google Play that collected in August 2018.\n",
    "* [Apple iOS Apps Store Datasets](https://www.kaggle.com/ramamet4/app-store-apple-data-set-10k-apps/home) containing data about approximately **7.000** iOS apps from the App Store that collected in July 2017.\n",
    "\n",
    "Lets start by opening two data sets and then continue with exploring the data."
   ]
  },
  {
   "cell_type": "code",
   "execution_count": 14,
   "metadata": {
    "collapsed": true
   },
   "outputs": [],
   "source": [
    "## OPEN TWO DATA SETS#\n",
    "\n",
    "from csv import reader\n",
    "\n",
    "#------- Google App Store Data sets------#\n",
    "open_android = open('googleplaystore.csv')\n",
    "android_file = reader(open_android)\n",
    "android_lists = list(android_file)\n",
    "android_header = android_lists[0]\n",
    "android_data = android_lists[1:]\n",
    "\n",
    "#------- Apple iOS App Store Data sets------#\n",
    "open_ios = open('AppleStore.csv')\n",
    "ios_file = reader(open_ios)\n",
    "ios_lists = list(ios_file)\n",
    "ios_header = ios_lists[0]\n",
    "ios_data = ios_lists[1:]"
   ]
  },
  {
   "cell_type": "code",
   "execution_count": 15,
   "metadata": {
    "collapsed": true
   },
   "outputs": [],
   "source": [
    "# EXPLORE TWO DATA SETS #\n",
    "def explore_data(lists, header=True):\n",
    "    for row in lists[:5]:\n",
    "        print(row,'\\n')\n",
    "        \n",
    "    if header==True:\n",
    "        print('Number of rows: ',len(lists[1:]))\n",
    "        print('Number of columns: ',len(lists[0]))\n",
    "    else:\n",
    "        print('Number of rows: ',len(lists[1:]))"
   ]
  },
  {
   "cell_type": "code",
   "execution_count": 16,
   "metadata": {
    "collapsed": false
   },
   "outputs": [
    {
     "name": "stdout",
     "output_type": "stream",
     "text": [
      "Android Data Explore: \n",
      "['App', 'Category', 'Rating', 'Reviews', 'Size', 'Installs', 'Type', 'Price', 'Content Rating', 'Genres', 'Last Updated', 'Current Ver', 'Android Ver'] \n",
      "\n",
      "['Photo Editor & Candy Camera & Grid & ScrapBook', 'ART_AND_DESIGN', '4.1', '159', '19M', '10,000+', 'Free', '0', 'Everyone', 'Art & Design', 'January 7, 2018', '1.0.0', '4.0.3 and up'] \n",
      "\n",
      "['Coloring book moana', 'ART_AND_DESIGN', '3.9', '967', '14M', '500,000+', 'Free', '0', 'Everyone', 'Art & Design;Pretend Play', 'January 15, 2018', '2.0.0', '4.0.3 and up'] \n",
      "\n",
      "['U Launcher Lite – FREE Live Cool Themes, Hide Apps', 'ART_AND_DESIGN', '4.7', '87510', '8.7M', '5,000,000+', 'Free', '0', 'Everyone', 'Art & Design', 'August 1, 2018', '1.2.4', '4.0.3 and up'] \n",
      "\n",
      "['Sketch - Draw & Paint', 'ART_AND_DESIGN', '4.5', '215644', '25M', '50,000,000+', 'Free', '0', 'Teen', 'Art & Design', 'June 8, 2018', 'Varies with device', '4.2 and up'] \n",
      "\n",
      "Number of rows:  10841\n",
      "Number of columns:  13\n"
     ]
    }
   ],
   "source": [
    "print('Android Data Explore: ')\n",
    "android_explore = explore_data(android_lists, header=True)"
   ]
  },
  {
   "cell_type": "markdown",
   "metadata": {},
   "source": [
    "As we can see from the result, for Android Dataset has **13 feature** and **10841 data**. The features that might be useful for our goals are:\n",
    "\n",
    "| <center> Column Name </center> | <center> Description </center>                                |\n",
    "| ----------- | ------------------------------------------- |\n",
    "| App         | Application Name                            |\n",
    "| Category    | Category the app belongs to                 |\n",
    "| Rating      | Overall user rating of the app              |\n",
    "| Reviews     | Number of user reviews                      |\n",
    "| Installs    | Number of user download or install the app  |\n",
    "| Type        | a paid app or free app                      |\n",
    "| Genres      | Apart from the main category                |\n",
    "| Price       | Price of the app                            |"
   ]
  },
  {
   "cell_type": "code",
   "execution_count": 17,
   "metadata": {
    "collapsed": false
   },
   "outputs": [
    {
     "name": "stdout",
     "output_type": "stream",
     "text": [
      "iOS Data Explore: \n",
      "['id', 'track_name', 'size_bytes', 'currency', 'price', 'rating_count_tot', 'rating_count_ver', 'user_rating', 'user_rating_ver', 'ver', 'cont_rating', 'prime_genre', 'sup_devices.num', 'ipadSc_urls.num', 'lang.num', 'vpp_lic'] \n",
      "\n",
      "['284882215', 'Facebook', '389879808', 'USD', '0.0', '2974676', '212', '3.5', '3.5', '95.0', '4+', 'Social Networking', '37', '1', '29', '1'] \n",
      "\n",
      "['389801252', 'Instagram', '113954816', 'USD', '0.0', '2161558', '1289', '4.5', '4.0', '10.23', '12+', 'Photo & Video', '37', '0', '29', '1'] \n",
      "\n",
      "['529479190', 'Clash of Clans', '116476928', 'USD', '0.0', '2130805', '579', '4.5', '4.5', '9.24.12', '9+', 'Games', '38', '5', '18', '1'] \n",
      "\n",
      "['420009108', 'Temple Run', '65921024', 'USD', '0.0', '1724546', '3842', '4.5', '4.0', '1.6.2', '9+', 'Games', '40', '5', '1', '1'] \n",
      "\n",
      "Number of rows:  7197\n",
      "Number of columns:  16\n"
     ]
    }
   ],
   "source": [
    "print('iOS Data Explore: ')\n",
    "ios_explore = explore_data(ios_lists,True)"
   ]
  },
  {
   "cell_type": "markdown",
   "metadata": {},
   "source": [
    "For iOS data sets has **16 features** and **7197 data**. The features that might be useful are:\n",
    "\n",
    "| Column Name       |  Description                             |\n",
    "| -----------       | -----------------------------------------|\n",
    "| id                | Application ID                           |\n",
    "| track_name        | Application Name                         |\n",
    "| price             | price amount                             |\n",
    "| rating_count_tot  | Number of user rating count for all ver  |\n",
    "| rating_count_ver  | Number of user rating count for cur ver  |\n",
    "| prime_genre       | primary genre                            |\n",
    "| currency          | Currency Type                            |"
   ]
  },
  {
   "cell_type": "markdown",
   "metadata": {},
   "source": [
    "## Data Cleaning"
   ]
  },
  {
   "cell_type": "markdown",
   "metadata": {},
   "source": [
    "### Detecting and Deleting Wrong Data"
   ]
  },
  {
   "cell_type": "markdown",
   "metadata": {},
   "source": [
    "The Google Play data set has a dedicated [discussion section](https://www.kaggle.com/lava18/google-play-store-apps/discussion), and [one of the discussion](https://www.kaggle.com/lava18/google-play-store-apps/discussion/66015) describes an error for a certain row.\n",
    "\n"
   ]
  },
  {
   "cell_type": "code",
   "execution_count": 26,
   "metadata": {
    "collapsed": false
   },
   "outputs": [
    {
     "name": "stdout",
     "output_type": "stream",
     "text": [
      "Wrong data:  ['Life Made WI-Fi Touchscreen Photo Frame', '1.9', '19', '3.0M', '1,000+', 'Free', '0', 'Everyone', '', 'February 11, 2018', '1.0.19', '4.0 and up'] \n",
      "\n",
      "List of Feature:  ['App', 'Category', 'Rating', 'Reviews', 'Size', 'Installs', 'Type', 'Price', 'Content Rating', 'Genres', 'Last Updated', 'Current Ver', 'Android Ver'] \n",
      "\n",
      "Example of right data:  ['Photo Editor & Candy Camera & Grid & ScrapBook', 'ART_AND_DESIGN', '4.1', '159', '19M', '10,000+', 'Free', '0', 'Everyone', 'Art & Design', 'January 7, 2018', '1.0.0', '4.0.3 and up']\n"
     ]
    }
   ],
   "source": [
    "print('Wrong data: ',android_data[10472],'\\n')\n",
    "print('List of Features: ',android_header,'\\n')\n",
    "print('Example of right data: ',android_data[0])"
   ]
  },
  {
   "cell_type": "markdown",
   "metadata": {},
   "source": [
    "It is right from the discussion, that the data in index:**10472** (without header) is a wrong data because **Content Rating** feature has a blank value. Also, as we can see the **Rating** of that app reach **19**, and it is clearly off because the maximum rating for a Google Play App is a **5**.\n",
    "\n",
    "So, need to delete the row of that wrong data from the Google Play data set."
   ]
  },
  {
   "cell_type": "code",
   "execution_count": 27,
   "metadata": {
    "collapsed": false
   },
   "outputs": [
    {
     "name": "stdout",
     "output_type": "stream",
     "text": [
      "10840\n"
     ]
    }
   ],
   "source": [
    "del android_data[10472]\n",
    "print(len(android_data))"
   ]
  },
  {
   "cell_type": "markdown",
   "metadata": {},
   "source": [
    "### Removing Duplicate Entries"
   ]
  },
  {
   "cell_type": "code",
   "execution_count": null,
   "metadata": {
    "collapsed": true
   },
   "outputs": [],
   "source": []
  }
 ],
 "metadata": {
  "kernelspec": {
   "display_name": "Python 3",
   "language": "python",
   "name": "python3"
  },
  "language_info": {
   "codemirror_mode": {
    "name": "ipython",
    "version": 3
   },
   "file_extension": ".py",
   "mimetype": "text/x-python",
   "name": "python",
   "nbconvert_exporter": "python",
   "pygments_lexer": "ipython3",
   "version": "3.4.3"
  }
 },
 "nbformat": 4,
 "nbformat_minor": 2
}
